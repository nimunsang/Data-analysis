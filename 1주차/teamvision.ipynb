{
 "cells": [
  {
   "cell_type": "code",
   "execution_count": 1,
   "id": "202cb378-b044-46ce-b815-d4ee384929da",
   "metadata": {},
   "outputs": [],
   "source": [
    "import pandas as pd\n",
    "import numpy as np\n",
    "import requests"
   ]
  },
  {
   "cell_type": "code",
   "execution_count": 2,
   "id": "7f8b6e8f-14be-43e2-a67f-f50f90377822",
   "metadata": {
    "tags": []
   },
   "outputs": [],
   "source": [
    "# Riot Developer Portal에서 받은 API KEY입니다.\n",
    "# 해당 값을 포함한 모든 종류의 KEY는 코드에 직접적으로 노출되지 않도록 하는 것이 좋습니다.\n",
    "api_key = 'RGAPI-21d97aaa-2936-48f8-8d14-1b7ec8e11835'\n",
    "\n",
    "# 본인 소환사명입니다.\n",
    "summoner_name = 'bbo bbo'"
   ]
  },
  {
   "cell_type": "code",
   "execution_count": 3,
   "id": "8a40fae7",
   "metadata": {},
   "outputs": [],
   "source": [
    "# SUMMONER-V4 API URL\n",
    "requesturl = 'https://kr.api.riotgames.com/lol/summoner/v4/summoners/by-name/'+summoner_name+\\\n",
    "'?api_key='+api_key"
   ]
  },
  {
   "cell_type": "code",
   "execution_count": 4,
   "id": "03ed8126",
   "metadata": {
    "scrolled": true
   },
   "outputs": [],
   "source": [
    "r = requests.get(requesturl)"
   ]
  },
  {
   "cell_type": "code",
   "execution_count": 5,
   "id": "9d63ad21",
   "metadata": {
    "tags": []
   },
   "outputs": [
    {
     "data": {
      "text/plain": [
       "{'id': 'DSE-Ry3Pe7XnkKLRszZWggYpUhzPKoSRoztg4zy4LTI-aw',\n",
       " 'accountId': '9SABmCP35rDHhLJFB4kcLRHjUhAcFWreOjTHQSYbLpq4',\n",
       " 'puuid': 'IAFEULvrkOAY3c7Q4FZMoseecg2SLCjvVNg5x2GX_sPQgczmrdlWMHwuN5gdj1ficZQzWd2bqyhk5g',\n",
       " 'name': 'bbo bbo',\n",
       " 'profileIconId': 21,\n",
       " 'revisionDate': 1633953827000,\n",
       " 'summonerLevel': 95}"
      ]
     },
     "execution_count": 5,
     "metadata": {},
     "output_type": "execute_result"
    }
   ],
   "source": [
    "# 불러온 데이터 확인\n",
    "r.json()"
   ]
  },
  {
   "cell_type": "code",
   "execution_count": 6,
   "id": "2fad941c",
   "metadata": {},
   "outputs": [],
   "source": [
    "# 본인 puuid입니다.\n",
    "summoner_puuid = r.json()['puuid']"
   ]
  },
  {
   "cell_type": "code",
   "execution_count": 7,
   "id": "caf9c3d9-5cf9-4883-8126-438ddf39cd8a",
   "metadata": {},
   "outputs": [],
   "source": [
    "# 불러오고 싶은 게임 수\n",
    "# 100 이하로 하기\n",
    "GAME_COUNT = 20"
   ]
  },
  {
   "cell_type": "code",
   "execution_count": 8,
   "id": "603e1f65",
   "metadata": {},
   "outputs": [],
   "source": [
    "# MATCH-V5 API URL\n",
    "requesturl = 'https://asia.api.riotgames.com/lol/match/v5/matches/by-puuid/'+summoner_puuid+\\\n",
    "'/ids?start=0&count='+str(GAME_COUNT)+'&api_key='+api_key"
   ]
  },
  {
   "cell_type": "code",
   "execution_count": 9,
   "id": "2115e88f",
   "metadata": {},
   "outputs": [],
   "source": [
    "req = requests.get(requesturl)"
   ]
  },
  {
   "cell_type": "code",
   "execution_count": 10,
   "id": "e307fa29",
   "metadata": {
    "scrolled": true
   },
   "outputs": [
    {
     "data": {
      "text/plain": [
       "['KR_5506895682',\n",
       " 'KR_5506913637',\n",
       " 'KR_5506891328',\n",
       " 'KR_5506847812',\n",
       " 'KR_5506824180',\n",
       " 'KR_5506709463',\n",
       " 'KR_5502160829',\n",
       " 'KR_5478792575',\n",
       " 'KR_5478790037',\n",
       " 'KR_5478686728',\n",
       " 'KR_5467267693',\n",
       " 'KR_5467126483',\n",
       " 'KR_5467087581',\n",
       " 'KR_5467012344',\n",
       " 'KR_5466942844',\n",
       " 'KR_5466816785',\n",
       " 'KR_5466619212',\n",
       " 'KR_5466512933',\n",
       " 'KR_5466434635',\n",
       " 'KR_5466430185']"
      ]
     },
     "execution_count": 10,
     "metadata": {},
     "output_type": "execute_result"
    }
   ],
   "source": [
    "# 불러온 데이터 확인\n",
    "req.json()"
   ]
  },
  {
   "cell_type": "code",
   "execution_count": 18,
   "id": "38f06958",
   "metadata": {
    "tags": []
   },
   "outputs": [
    {
     "name": "stdout",
     "output_type": "stream",
     "text": [
      "\n",
      "=========[game1]========\n",
      "     win  teamVisionScore\n",
      "0  False              155\n",
      "1   True              224\n",
      "\n",
      "=========[game2]========\n",
      "     win  teamVisionScore\n",
      "0  False              151\n",
      "1   True              201\n",
      "\n",
      "=========[game3]========\n",
      "     win  teamVisionScore\n",
      "0  False              182\n",
      "1   True              176\n",
      "\n",
      "=========[game4]========\n",
      "     win  teamVisionScore\n",
      "0   True              102\n",
      "1  False               80\n",
      "\n",
      "=========[game5]========\n",
      "     win  teamVisionScore\n",
      "0  False              231\n",
      "1   True              250\n",
      "\n",
      "=========[game6]========\n",
      "     win  teamVisionScore\n",
      "0   True              131\n",
      "1  False               97\n",
      "\n",
      "=========[game7]========\n",
      "특별 게임 모드(우르프, 칼바람 등)\n",
      "\n",
      "=========[game8]========\n",
      "특별 게임 모드(우르프, 칼바람 등)\n",
      "\n",
      "=========[game9]========\n",
      "특별 게임 모드(우르프, 칼바람 등)\n",
      "\n",
      "=========[game10]========\n",
      "특별 게임 모드(우르프, 칼바람 등)\n",
      "\n",
      "=========[game11]========\n",
      "     win  teamVisionScore\n",
      "0   True              234\n",
      "1  False              216\n",
      "\n",
      "=========[game12]========\n",
      "     win  teamVisionScore\n",
      "0   True              100\n",
      "1  False               87\n",
      "\n",
      "=========[game13]========\n",
      "     win  teamVisionScore\n",
      "0   True              128\n",
      "1  False              107\n",
      "\n",
      "=========[game14]========\n",
      "특별 게임 모드(우르프, 칼바람 등)\n",
      "\n",
      "=========[game15]========\n",
      "     win  teamVisionScore\n",
      "0  False              155\n",
      "1   True              151\n",
      "\n",
      "=========[game16]========\n",
      "     win  teamVisionScore\n",
      "0   True               71\n",
      "1  False               42\n",
      "\n",
      "=========[game17]========\n",
      "     win  teamVisionScore\n",
      "0   True              133\n",
      "1  False              129\n",
      "\n",
      "=========[game18]========\n",
      "     win  teamVisionScore\n",
      "0  False              126\n",
      "1   True              130\n",
      "\n",
      "=========[game19]========\n",
      "특별 게임 모드(우르프, 칼바람 등)\n",
      "\n",
      "=========[game20]========\n",
      "특별 게임 모드(우르프, 칼바람 등)\n",
      "\n",
      "\n",
      "=======================총 정리====================\n",
      "\n",
      "총 표본 : 20, 특별 게임 모드 : 7\n",
      "시야점수가 높은 팀이 이길 확률 : 11/13   (84.62%)\n",
      "블루팀이 이길 확률 : 7/13   (53.85%)\n"
     ]
    }
   ],
   "source": [
    "cnt = 0\n",
    "special_mode = 0\n",
    "blue_win = 0\n",
    "\n",
    "for i in range(GAME_COUNT):\n",
    "    matchId = req.json()[i]\n",
    "    requesturl = 'https://asia.api.riotgames.com/lol/match/v5/matches/'+matchId\\\n",
    "    +'?api_key='+api_key\n",
    "    r = requests.get(requesturl)\n",
    "    \n",
    "    pd.set_option('display.max_columns',None)\n",
    "    df = pd.DataFrame(r.json()['info']['teams'])\n",
    "    \n",
    "    team1_visionScore = 0\n",
    "    for j in range(0, 5):\n",
    "        team1_visionScore += (r.json()['info']['participants'][j]['visionScore'])\n",
    "    team2_visionScore = 0\n",
    "    for j in range(5, 10):\n",
    "        team2_visionScore += (r.json()['info']['participants'][j]['visionScore'])\n",
    "        \n",
    "    print(f\"\\n=========[game{i+1}]========\")\n",
    "    \n",
    "    if r.json()['info']['gameMode'] != \"CLASSIC\":\n",
    "        print(\"특별 게임 모드\")\n",
    "        special_mode += 1\n",
    "        continue\n",
    "        \n",
    "    df['teamVisionScore'] = [team1_visionScore, team2_visionScore]\n",
    "    COLUMNS = ['win', 'teamVisionScore']\n",
    "    print(df[COLUMNS])\n",
    "    \n",
    "    if r.json()['info']['teams'][0]['win'] == True:\n",
    "        blue_win += 1\n",
    "        if team1_visionScore > team2_visionScore:\n",
    "            cnt += 1\n",
    "    if r.json()['info']['teams'][1]['win'] == True and team2_visionScore > team1_visionScore: \n",
    "        cnt += 1\n",
    "        \n",
    "print(\"\\n\\n=======================총 정리====================\\n\")\n",
    "print(f\"총 표본 : {GAME_COUNT}, 특별 게임 모드 : {special_mode}\")\n",
    "print(f\"시야점수가 높은 팀이 이길 확률 : {cnt}/{GAME_COUNT-special_mode}\", end = \"\")\n",
    "print(\"   ({0:.2f}%)\".format(cnt/(GAME_COUNT-special_mode)*100))\n",
    "print(f\"블루팀이 이길 확률 : {blue_win}/{GAME_COUNT-special_mode}\", end = \"\")\n",
    "print(\"   ({0:.2f}%)\".format(blue_win/(GAME_COUNT-special_mode)*100))"
   ]
  },
  {
   "cell_type": "code",
   "execution_count": null,
   "id": "1d1612e9",
   "metadata": {},
   "outputs": [],
   "source": []
  },
  {
   "cell_type": "code",
   "execution_count": null,
   "id": "e3b98124",
   "metadata": {},
   "outputs": [],
   "source": []
  },
  {
   "cell_type": "code",
   "execution_count": null,
   "id": "197b736d-3e20-4598-948f-7651dd31b562",
   "metadata": {},
   "outputs": [],
   "source": []
  }
 ],
 "metadata": {
  "kernelspec": {
   "display_name": "Python 3",
   "language": "python",
   "name": "python3"
  },
  "language_info": {
   "codemirror_mode": {
    "name": "ipython",
    "version": 3
   },
   "file_extension": ".py",
   "mimetype": "text/x-python",
   "name": "python",
   "nbconvert_exporter": "python",
   "pygments_lexer": "ipython3",
   "version": "3.8.8"
  },
  "varInspector": {
   "cols": {
    "lenName": 16,
    "lenType": 16,
    "lenVar": 40
   },
   "kernels_config": {
    "python": {
     "delete_cmd_postfix": "",
     "delete_cmd_prefix": "del ",
     "library": "var_list.py",
     "varRefreshCmd": "print(var_dic_list())"
    },
    "r": {
     "delete_cmd_postfix": ") ",
     "delete_cmd_prefix": "rm(",
     "library": "var_list.r",
     "varRefreshCmd": "cat(var_dic_list()) "
    }
   },
   "position": {
    "height": "144px",
    "left": "1423px",
    "right": "20px",
    "top": "120px",
    "width": "350px"
   },
   "types_to_exclude": [
    "module",
    "function",
    "builtin_function_or_method",
    "instance",
    "_Feature"
   ],
   "window_display": false
  }
 },
 "nbformat": 4,
 "nbformat_minor": 5
}
