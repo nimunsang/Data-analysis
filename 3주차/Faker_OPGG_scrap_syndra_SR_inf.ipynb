{
 "cells": [
  {
   "cell_type": "code",
   "execution_count": 1,
   "id": "99c41f3e",
   "metadata": {},
   "outputs": [],
   "source": [
    "import requests\n",
    "import time\n",
    "import pandas as pd\n",
    "from bs4 import BeautifulSoup\n",
    "from selenium import webdriver"
   ]
  },
  {
   "cell_type": "code",
   "execution_count": 2,
   "id": "ff8df5c2",
   "metadata": {},
   "outputs": [],
   "source": [
    "# selenium을 백그라운드로 실행하기 위해 옵션 설정\n",
    "options = webdriver.ChromeOptions()\n",
    "options.add_argument('headless')\n",
    "options.add_argument('window-size=1920x1080')"
   ]
  },
  {
   "cell_type": "code",
   "execution_count": 3,
   "id": "0ed6aeb7",
   "metadata": {},
   "outputs": [
    {
     "name": "stderr",
     "output_type": "stream",
     "text": [
      "<ipython-input-3-b1d8088da69a>:5: DeprecationWarning: executable_path has been deprecated, please pass in a Service object\n",
      "  driver = webdriver.Chrome(\"/Users/HEESU/chromedriver\")\n"
     ]
    }
   ],
   "source": [
    "# 우리가 데이터를 가져올 웹 페이지입니다.\n",
    "faker_opgg_url = 'https://www.op.gg/summoner/userName=Hide%20on%20bush'\n",
    "\n",
    "# selenium이 제어할 chrome을 실행합니다.\n",
    "driver = webdriver.Chrome(\"/Users/HEESU/앶chromedriver\")\n",
    "# driver = webdriver.Chrome(\"/Users/namshin/chromedriver\", options= options)"
   ]
  },
  {
   "cell_type": "code",
   "execution_count": 4,
   "id": "d003e032",
   "metadata": {},
   "outputs": [],
   "source": [
    "# 데이터를 가져올 페이지로 이동합니다.\n",
    "driver.get(faker_opgg_url)"
   ]
  },
  {
   "cell_type": "code",
   "execution_count": 5,
   "id": "ff8bc4dd",
   "metadata": {},
   "outputs": [
    {
     "name": "stderr",
     "output_type": "stream",
     "text": [
      "<ipython-input-5-6b6d6d11c780>:2: DeprecationWarning: find_element_by_* commands are deprecated. Please use find_element() instead\n",
      "  driver.find_element_by_id('right_search_champion').find_element_by_css_selector('input.Input').send_keys('Syndra\\n')\n",
      "C:\\Users\\HEESU\\anaconda3\\lib\\site-packages\\selenium\\webdriver\\remote\\webelement.py:483: UserWarning: find_element_by_* commands are deprecated. Please use find_element() instead\n",
      "  warnings.warn(\"find_element_by_* commands are deprecated. Please use find_element() instead\")\n"
     ]
    }
   ],
   "source": [
    "# 챔피언 검색창에 'Syndra' 입력\n",
    "# driver.find_element_by_id('right_search_champion').find_element_by_css_selector('input.Input').send_keys('Syndra\\n')\n",
    "# time.sleep(1)"
   ]
  },
  {
   "cell_type": "code",
   "execution_count": 6,
   "id": "b34379a0",
   "metadata": {},
   "outputs": [
    {
     "name": "stderr",
     "output_type": "stream",
     "text": [
      "<ipython-input-6-9a92273bb80d>:2: DeprecationWarning: find_element_by_* commands are deprecated. Please use find_element() instead\n",
      "  driver.find_element_by_id('right_gametype_soloranked').click()\n"
     ]
    }
   ],
   "source": [
    "# 매치 탭에서 'Ranked Solo' 클릭\n",
    "driver.find_element_by_id('right_gametype_soloranked').click()\n",
    "time.sleep(1)"
   ]
  },
  {
   "cell_type": "code",
   "execution_count": 7,
   "id": "53d056f1",
   "metadata": {},
   "outputs": [
    {
     "name": "stderr",
     "output_type": "stream",
     "text": [
      "<ipython-input-7-523ee828ac39>:4: DeprecationWarning: find_element_by_* commands are deprecated. Please use find_element() instead\n",
      "  driver.find_element_by_css_selector('.GameMoreButton').click()\n"
     ]
    }
   ],
   "source": [
    "# '더 보기' 버튼이 활성화되어있으면(리스트의 끝까지 도달하지 않았으면) 계속 클릭하여 이전 게임을 모두 로딩합니다.\n",
    "while True:\n",
    "    try:\n",
    "        driver.find_element_by_css_selector('.GameMoreButton').click()\n",
    "        # 게임 로딩, html 코드 변경까지 여유 시간을 1초 가집니다.\n",
    "        time.sleep(1)\n",
    "        \n",
    "    # 에러가 나면(페이지에서 '더 보기' 버튼이 없을 경우) while문을 탈출합니다.\n",
    "    except Exception as e:\n",
    "        pass\n",
    "        break"
   ]
  },
  {
   "cell_type": "code",
   "execution_count": 8,
   "id": "25aa8e68",
   "metadata": {},
   "outputs": [],
   "source": [
    "# 결과가 들어갈 빈 리스트를 만듭니다.\n",
    "faker_champions = []\n",
    "faker_kills = []\n",
    "faker_deaths = []\n",
    "faker_assists = []\n",
    "faker_results = []"
   ]
  },
  {
   "cell_type": "code",
   "execution_count": 9,
   "id": "5dded0a5",
   "metadata": {},
   "outputs": [
    {
     "name": "stderr",
     "output_type": "stream",
     "text": [
      "<ipython-input-9-45b590fb9944>:2: DeprecationWarning: find_elements_by_* commands are deprecated. Please use find_elements() instead\n",
      "  for gamelist in driver.find_elements_by_css_selector('div.GameItemList'):\n",
      "C:\\Users\\HEESU\\anaconda3\\lib\\site-packages\\selenium\\webdriver\\remote\\webelement.py:501: UserWarning: find_elements_by_* commands are deprecated. Please use find_elements() instead\n",
      "  warnings.warn(\"find_elements_by_* commands are deprecated. Please use find_elements() instead\")\n"
     ]
    }
   ],
   "source": [
    "# 각 게임에 대해 웹 페이지에 기재된 스탯을 찾아서(selector 사용) 결과 리스트에 append하기\n",
    "for gamelist in driver.find_elements_by_css_selector('div.GameItemList'):\n",
    "    for game in gamelist.find_elements_by_css_selector('div.GameItemWrap'):\n",
    "        faker_champions.append(game.find_element_by_css_selector('div.ChampionName').text.strip())\n",
    "        faker_kills.append(game.find_element_by_css_selector('div.KDA').\n",
    "                           find_element_by_css_selector('div.KDA').\n",
    "                           find_element_by_css_selector('span.Kill').text.strip())\n",
    "        faker_deaths.append(game.find_element_by_css_selector('div.KDA').\n",
    "                           find_element_by_css_selector('div.KDA').\n",
    "                           find_element_by_css_selector('span.Death').text.strip())\n",
    "        faker_assists.append(game.find_element_by_css_selector('div.KDA').\n",
    "                           find_element_by_css_selector('div.KDA').\n",
    "                           find_element_by_css_selector('span.Assist').text.strip())\n",
    "        faker_results.append(game.find_element_by_css_selector('div.GameStats').\n",
    "                           find_element_by_css_selector('div.GameResult').text.strip())"
   ]
  },
  {
   "cell_type": "code",
   "execution_count": 10,
   "id": "b2f871ad",
   "metadata": {},
   "outputs": [],
   "source": [
    "# selenium이 제어하는 크롬을 종료합니다.\n",
    "driver.quit()"
   ]
  },
  {
   "cell_type": "code",
   "execution_count": 11,
   "id": "de6cdb18",
   "metadata": {},
   "outputs": [
    {
     "data": {
      "text/html": [
       "<div>\n",
       "<style scoped>\n",
       "    .dataframe tbody tr th:only-of-type {\n",
       "        vertical-align: middle;\n",
       "    }\n",
       "\n",
       "    .dataframe tbody tr th {\n",
       "        vertical-align: top;\n",
       "    }\n",
       "\n",
       "    .dataframe thead th {\n",
       "        text-align: right;\n",
       "    }\n",
       "</style>\n",
       "<table border=\"1\" class=\"dataframe\">\n",
       "  <thead>\n",
       "    <tr style=\"text-align: right;\">\n",
       "      <th></th>\n",
       "      <th>champion</th>\n",
       "      <th>result</th>\n",
       "      <th>kills</th>\n",
       "      <th>deaths</th>\n",
       "      <th>assists</th>\n",
       "    </tr>\n",
       "  </thead>\n",
       "  <tbody>\n",
       "    <tr>\n",
       "      <th>0</th>\n",
       "      <td>에코</td>\n",
       "      <td>승리</td>\n",
       "      <td>4</td>\n",
       "      <td>7</td>\n",
       "      <td>11</td>\n",
       "    </tr>\n",
       "    <tr>\n",
       "      <th>1</th>\n",
       "      <td>르블랑</td>\n",
       "      <td>패배</td>\n",
       "      <td>2</td>\n",
       "      <td>2</td>\n",
       "      <td>5</td>\n",
       "    </tr>\n",
       "    <tr>\n",
       "      <th>2</th>\n",
       "      <td>르블랑</td>\n",
       "      <td>승리</td>\n",
       "      <td>6</td>\n",
       "      <td>4</td>\n",
       "      <td>4</td>\n",
       "    </tr>\n",
       "    <tr>\n",
       "      <th>3</th>\n",
       "      <td>탈리야</td>\n",
       "      <td>패배</td>\n",
       "      <td>5</td>\n",
       "      <td>10</td>\n",
       "      <td>7</td>\n",
       "    </tr>\n",
       "    <tr>\n",
       "      <th>4</th>\n",
       "      <td>르블랑</td>\n",
       "      <td>승리</td>\n",
       "      <td>8</td>\n",
       "      <td>5</td>\n",
       "      <td>10</td>\n",
       "    </tr>\n",
       "    <tr>\n",
       "      <th>...</th>\n",
       "      <td>...</td>\n",
       "      <td>...</td>\n",
       "      <td>...</td>\n",
       "      <td>...</td>\n",
       "      <td>...</td>\n",
       "    </tr>\n",
       "    <tr>\n",
       "      <th>604</th>\n",
       "      <td>아칼리</td>\n",
       "      <td>패배</td>\n",
       "      <td>5</td>\n",
       "      <td>3</td>\n",
       "      <td>3</td>\n",
       "    </tr>\n",
       "    <tr>\n",
       "      <th>605</th>\n",
       "      <td>아칼리</td>\n",
       "      <td>패배</td>\n",
       "      <td>6</td>\n",
       "      <td>7</td>\n",
       "      <td>3</td>\n",
       "    </tr>\n",
       "    <tr>\n",
       "      <th>606</th>\n",
       "      <td>빅토르</td>\n",
       "      <td>승리</td>\n",
       "      <td>6</td>\n",
       "      <td>1</td>\n",
       "      <td>7</td>\n",
       "    </tr>\n",
       "    <tr>\n",
       "      <th>607</th>\n",
       "      <td>아칼리</td>\n",
       "      <td>승리</td>\n",
       "      <td>2</td>\n",
       "      <td>2</td>\n",
       "      <td>2</td>\n",
       "    </tr>\n",
       "    <tr>\n",
       "      <th>608</th>\n",
       "      <td>바루스</td>\n",
       "      <td>승리</td>\n",
       "      <td>6</td>\n",
       "      <td>3</td>\n",
       "      <td>4</td>\n",
       "    </tr>\n",
       "  </tbody>\n",
       "</table>\n",
       "<p>609 rows × 5 columns</p>\n",
       "</div>"
      ],
      "text/plain": [
       "    champion result kills deaths assists\n",
       "0         에코     승리     4      7      11\n",
       "1        르블랑     패배     2      2       5\n",
       "2        르블랑     승리     6      4       4\n",
       "3        탈리야     패배     5     10       7\n",
       "4        르블랑     승리     8      5      10\n",
       "..       ...    ...   ...    ...     ...\n",
       "604      아칼리     패배     5      3       3\n",
       "605      아칼리     패배     6      7       3\n",
       "606      빅토르     승리     6      1       7\n",
       "607      아칼리     승리     2      2       2\n",
       "608      바루스     승리     6      3       4\n",
       "\n",
       "[609 rows x 5 columns]"
      ]
     },
     "execution_count": 11,
     "metadata": {},
     "output_type": "execute_result"
    }
   ],
   "source": [
    "# DataFrame으로 변환 후 출력\n",
    "faker_total_df = pd.DataFrame([faker_champions,\n",
    "                                faker_results,\n",
    "                                faker_kills,\n",
    "                                faker_deaths,\n",
    "                                faker_assists],\n",
    "                               index = ['champion', 'result', 'kills', 'deaths', 'assists']).T\n",
    "faker_total_df"
   ]
  }
 ],
 "metadata": {
  "kernelspec": {
   "display_name": "Python 3",
   "language": "python",
   "name": "python3"
  },
  "language_info": {
   "codemirror_mode": {
    "name": "ipython",
    "version": 3
   },
   "file_extension": ".py",
   "mimetype": "text/x-python",
   "name": "python",
   "nbconvert_exporter": "python",
   "pygments_lexer": "ipython3",
   "version": "3.8.8"
  },
  "varInspector": {
   "cols": {
    "lenName": 16,
    "lenType": 16,
    "lenVar": 40
   },
   "kernels_config": {
    "python": {
     "delete_cmd_postfix": "",
     "delete_cmd_prefix": "del ",
     "library": "var_list.py",
     "varRefreshCmd": "print(var_dic_list())"
    },
    "r": {
     "delete_cmd_postfix": ") ",
     "delete_cmd_prefix": "rm(",
     "library": "var_list.r",
     "varRefreshCmd": "cat(var_dic_list()) "
    }
   },
   "types_to_exclude": [
    "module",
    "function",
    "builtin_function_or_method",
    "instance",
    "_Feature"
   ],
   "window_display": false
  }
 },
 "nbformat": 4,
 "nbformat_minor": 5
}
